{
 "cells": [
  {
   "cell_type": "code",
   "execution_count": 14,
   "id": "d92f8668",
   "metadata": {},
   "outputs": [],
   "source": [
    "import xarray as xr\n",
    "import numpy as np\n",
    "import pandas as pd\n",
    "import os, sys\n",
    "from os.path import join, basename\n",
    "import matplotlib.pyplot as plt\n",
    "import hydromt\n",
    "from hydromt import DataCatalog\n",
    "from hydromt_sfincs import SfincsModel\n",
    "from hydromt_sfincs.utils import parse_datetime\n",
    "import datetime\n",
    "from datetime import timedelta\n",
    "from hydromt.log import setuplog\n",
    "import matplotlib.pyplot as plt\n",
    "sys.path.append('./eva_script')\n",
    "\n",
    "from eva_script import eva"
   ]
  },
  {
   "cell_type": "code",
   "execution_count": 15,
   "id": "d089c03f",
   "metadata": {},
   "outputs": [],
   "source": [
    "#We open the file with the events\n",
    "events = xr.open_dataarray('P:/11206881-climate-risk-in-cities/msc_theses/Jasper/hydromt_sfincs-main/Case_studies/sfincs_update_bangkok_wg_historic_1/boundary_conditions/fluvial_design_events.nc').reset_coords(drop=True)"
   ]
  },
  {
   "cell_type": "code",
   "execution_count": 28,
   "id": "f96f938e",
   "metadata": {},
   "outputs": [],
   "source": [
    "#These times are the start and end of your simulation\n",
    "\n",
    "t_peak = '20100101 000000'\n",
    "t0 = parse_datetime(t_peak)"
   ]
  },
  {
   "cell_type": "code",
   "execution_count": 29,
   "id": "b19c2d83",
   "metadata": {},
   "outputs": [
    {
     "name": "stdout",
     "output_type": "stream",
     "text": [
      "Peak date is: 20100101 000000\n",
      "Start date is: 2009-12-21 00:00:00\n",
      "End date is: 2010-01-10 00:00:00\n"
     ]
    }
   ],
   "source": [
    "#We need to convert the time index (relative to the peak to a datetime index)\n",
    "sel_rp = 100\n",
    "q0 = events.sel(rps=sel_rp).reset_coords(drop=True).to_series().unstack(0)   #We convert the xr.dataarray to a pd.dataframe\n",
    "q0.index = t0 + np.array([timedelta(days=int(dt)) for dt in q0.index.values]) #We convert the index to a date\n",
    "#Looking at the index of q0, you see now that the event starts on 2019/12/21 and ends on 2020/01/10\n",
    "print('Peak date is:', t_peak)\n",
    "print('Start date is:', q0.index[0])\n",
    "print('End date is:',  q0.index[-1])"
   ]
  },
  {
   "cell_type": "code",
   "execution_count": 30,
   "id": "71fcd690",
   "metadata": {},
   "outputs": [],
   "source": [
    "#Note that (tstop - tstart) correspond to the window size picked in the eva (wdw_size)\n",
    "tstart = q0.index[0].strftime(\"%Y%m%d %H%M%S\") \n",
    "tstop = q0.index[-1].strftime(\"%Y%m%d %H%M%S\") \n",
    "#These times are suggested only: you can also select other start and end time as long as there is data!"
   ]
  },
  {
   "cell_type": "code",
   "execution_count": 32,
   "id": "1b2ca59e",
   "metadata": {},
   "outputs": [
    {
     "name": "stdout",
     "output_type": "stream",
     "text": [
      "2022-06-07 14:30:50,992 - update - log - DEBUG - Appending log messages to file sfincs_update_bangkok_wg_historic_1\\hydromt.log.\n",
      "2022-06-07 14:30:51,013 - update - log - INFO - HydroMT version: 0.4.6.dev\n"
     ]
    }
   ],
   "source": [
    "#Load the basemodel\n",
    "mdir = r\"sfincs_update_bangkok_wg_historic_1\" #Initial model\n",
    "new_root = f'{mdir}_design_event_rp{sel_rp}'\n",
    "logger = setuplog('update', join(mdir, \"hydromt.log\"), log_level=10)"
   ]
  },
  {
   "cell_type": "code",
   "execution_count": 34,
   "id": "a6ca997f",
   "metadata": {},
   "outputs": [
    {
     "name": "stdout",
     "output_type": "stream",
     "text": [
      "2022-06-07 14:31:15,791 - update - data_adapter - INFO - Adding deltares_data v0.0.6 sources from https://github.com/DirkEilander/hydromt-artifacts/releases/download/v0.0.6/deltares_data.yml\n",
      "2022-06-07 14:31:16,809 - update - data_adapter - WARNING - Overwriting data source era5_hourly.\n",
      "2022-06-07 14:31:16,816 - update - data_adapter - WARNING - Overwriting data source fabdem.\n",
      "2022-06-07 14:31:16,823 - update - data_adapter - WARNING - Overwriting data source gcn250.\n",
      "2022-06-07 14:31:16,829 - update - data_adapter - WARNING - Overwriting data source merit_hydro.\n",
      "2022-06-07 14:31:16,841 - update - data_adapter - WARNING - Overwriting data source osm_coastlines.\n",
      "2022-06-07 14:31:16,850 - update - data_adapter - WARNING - Overwriting data source rivers_lin2019_v1.\n",
      "2022-06-07 14:31:16,857 - update - data_adapter - WARNING - Overwriting data source vito.\n",
      "2022-06-07 14:31:16,868 - update - model_api - INFO - Initializing sfincs model from hydromt_sfincs (v0.2.1).\n",
      "2022-06-07 14:31:16,913 - update - model_api - DEBUG - Model config read from p:\\11206881-climate-risk-in-cities\\msc_theses\\Jasper\\hydromt_sfincs-main\\Case_studies\\sfincs_update_bangkok_wg_historic_1\\sfincs.inp\n",
      "2022-06-07 14:31:18,444 - update - sfincs - DEBUG - waterlevel forcing: setting bnd data for 6 points.\n",
      "2022-06-07 14:31:18,450 - update - sfincs - DEBUG - waterlevel forcing: setting bzs data.\n",
      "2022-06-07 14:31:18,752 - update - sfincs - DEBUG - discharge forcing: setting src data for 1 points.\n",
      "2022-06-07 14:31:18,767 - update - sfincs - DEBUG - discharge forcing: setting dis data.\n",
      "2022-06-07 14:31:18,821 - update - sfincs - DEBUG - precip forcing: setting precip data.\n",
      "2022-06-07 14:31:18,831 - update - sfincs - INFO - Model read\n",
      "2022-06-07 14:31:18,840 - update - model_api - DEBUG - Setting model config options.\n"
     ]
    }
   ],
   "source": [
    "#read teh original model\n",
    "mod1 = SfincsModel(join(mdir), mode='r', deltares_data=True, logger=logger)\n",
    "mod1.read()\n",
    "# update model time to the tstart-tstop\n",
    "# NOTE that you need to check the timing of other (precip and waterlevel) boundary conditions \n",
    "mod1.setup_config(\n",
    "    tref=tstart,\n",
    "    tstart=tstart,\n",
    "    tstop=tstop\n",
    ")"
   ]
  },
  {
   "cell_type": "code",
   "execution_count": 35,
   "id": "0c4c5a27",
   "metadata": {},
   "outputs": [],
   "source": [
    "#We extract the locations of the points\n",
    "gdf_q = mod1.forcing['dis'].vector.to_gdf()\n",
    "gdf_h = mod1.forcing['bzs'].vector.to_gdf()\n"
   ]
  },
  {
   "cell_type": "code",
   "execution_count": 36,
   "id": "53983ce4",
   "metadata": {},
   "outputs": [
    {
     "name": "stdout",
     "output_type": "stream",
     "text": [
      "2022-06-07 14:32:21,955 - update - sfincs - DEBUG - discharge forcing: setting src data for 1 points.\n",
      "2022-06-07 14:32:21,972 - update - sfincs - DEBUG - discharge forcing: setting dis data.\n",
      "2022-06-07 14:32:21,977 - update - model_api - WARNING - Replacing forcing: dis\n"
     ]
    }
   ],
   "source": [
    "#To update a discharge BC\n",
    "mod1.set_forcing_1d(ts=q0.copy(), xy=gdf_q, name='discharge') \n",
    "mod1.forcing['dis'] = mod1.forcing['dis'].fillna(0.0)"
   ]
  },
  {
   "cell_type": "code",
   "execution_count": 37,
   "id": "353605e7",
   "metadata": {},
   "outputs": [
    {
     "name": "stdout",
     "output_type": "stream",
     "text": [
      "2022-06-07 14:34:55,888 - update - sfincs - DEBUG - waterlevel forcing: setting bnd data for 6 points.\n",
      "2022-06-07 14:34:55,908 - update - sfincs - DEBUG - waterlevel forcing: setting bzs data.\n",
      "2022-06-07 14:34:55,915 - update - model_api - WARNING - Replacing forcing: bzs\n"
     ]
    }
   ],
   "source": [
    "# set a zero waterlevel boundary, as we are only interested in Q\n",
    "mod1.set_forcing_1d(xy=gdf_h, name='waterlevel')"
   ]
  },
  {
   "cell_type": "code",
   "execution_count": 38,
   "id": "a235c947",
   "metadata": {},
   "outputs": [],
   "source": [
    "# remove precip as we are only interested in Q\n",
    "if 'precip' in mod1.forcing:\n",
    "    mod1.forcing.pop('precip')\n",
    "    mod1.config.pop('precipfile', None)"
   ]
  },
  {
   "cell_type": "code",
   "execution_count": 39,
   "id": "8b4b0479",
   "metadata": {},
   "outputs": [
    {
     "name": "stdout",
     "output_type": "stream",
     "text": [
      "2022-06-07 14:37:32,152 - update - log - DEBUG - Writing log messages to new file p:\\11206881-climate-risk-in-cities\\msc_theses\\Jasper\\hydromt_sfincs-main\\Case_studies\\sfincs_update_bangkok_wg_historic_1_design_event_rp100\\hydromt.log.\n",
      "2022-06-07 14:37:32,156 - update - sfincs - INFO - Write forcing files\n",
      "2022-06-07 14:37:32,290 - update - sfincs - INFO - Write vector file(s) for forcing.bzs to 'gis' subfolder\n",
      "2022-06-07 14:37:32,355 - update - sfincs - INFO - Write vector file(s) for forcing.dis to 'gis' subfolder\n",
      "2022-06-07 14:37:32,761 - update - model_api - INFO - Writing model config to p:\\11206881-climate-risk-in-cities\\msc_theses\\Jasper\\hydromt_sfincs-main\\Case_studies\\sfincs_update_bangkok_wg_historic_1_design_event_rp100\\sfincs.inp\n"
     ]
    }
   ],
   "source": [
    "# update model and save\n",
    "mod1.set_root(new_root)\n",
    "mod1.write_forcing()\n",
    "mod1.write_config(rel_path=f'../{basename(mdir)}')"
   ]
  },
  {
   "cell_type": "code",
   "execution_count": 40,
   "id": "6ea83bce",
   "metadata": {},
   "outputs": [
    {
     "data": {
      "text/plain": [
       "(<Figure size 432x432 with 2 Axes>,\n",
       " array([<AxesSubplot:title={'center':'SFINCS waterlevel forcing (bzs)'}, ylabel='waterlevel\\n[m+ref]'>,\n",
       "        <AxesSubplot:title={'center':'SFINCS discharge forcing (dis)'}, ylabel='discharge\\n[m3.s-1]'>],\n",
       "       dtype=object))"
      ]
     },
     "execution_count": 40,
     "metadata": {},
     "output_type": "execute_result"
    },
    {
     "data": {
      "image/png": "[encoded data removed]",
      "text/plain": [
       "<Figure size 432x432 with 2 Axes>"
      ]
     },
     "metadata": {
      "needs_background": "light"
     },
     "output_type": "display_data"
    }
   ],
   "source": [
    "# check if forcing looks as expected\n",
    "mod1.plot_forcing()"
   ]
  },
  {
   "cell_type": "code",
   "execution_count": null,
   "id": "481b62b7",
   "metadata": {},
   "outputs": [],
   "source": []
  }
 ],
 "metadata": {
  "interpreter": {
   "hash": "38e27e433838cb10afee03e5d44a3d2372a3d57cd17b6b3aa21dc0ebf71371e0"
  },
  "kernelspec": {
   "display_name": "Python 3 (ipykernel)",
   "language": "python",
   "name": "python3"
  },
  "language_info": {
   "codemirror_mode": {
    "name": "ipython",
    "version": 3
   },
   "file_extension": ".py",
   "mimetype": "text/x-python",
   "name": "python",
   "nbconvert_exporter": "python",
   "pygments_lexer": "ipython3",
   "version": "3.10.2"
  }
 },
 "nbformat": 4,
 "nbformat_minor": 5
}
